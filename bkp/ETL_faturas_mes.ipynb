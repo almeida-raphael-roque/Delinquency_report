{
 "cells": [
  {
   "cell_type": "code",
   "execution_count": 1,
   "id": "8951e66e",
   "metadata": {},
   "outputs": [],
   "source": [
    "import awswrangler as awr\n",
    "import pandas as pd\n",
    "import os\n",
    "import openpyxl\n"
   ]
  },
  {
   "cell_type": "code",
   "execution_count": null,
   "id": "00cbd861",
   "metadata": {},
   "outputs": [],
   "source": [
    "#caminho_query = r\"C:\\Users\\raphael.almeida\\Documents\\Processos\\relatorio_inadimplencia\\sql\\faturas_mes.sql\"\n",
    "#with open(caminho_query,'r') as arquivo_query:\n",
    "#    query = arquivo_query.read()\n",
    "#df_mes = awr.athena.read_sql_query(query, database='silver')\n",
    "\n",
    "#df_mes.drop_duplicates(subset='ponteiro', inplace=True)"
   ]
  },
  {
   "cell_type": "code",
   "execution_count": 6,
   "id": "feb41681",
   "metadata": {},
   "outputs": [],
   "source": [
    "caminho_xlsx = r\"C:\\Users\\raphael.almeida\\OneDrive - Grupo Unus\\analise de dados - Arquivos em excel\\Relatório de Inadimplência\\relatorio_faturas_mes.xlsx\"\n",
    "\n",
    "df_mes_0 = pd.read_excel(caminho_xlsx)"
   ]
  },
  {
   "cell_type": "code",
   "execution_count": 7,
   "id": "e44a86cc",
   "metadata": {},
   "outputs": [
    {
     "name": "stdout",
     "output_type": "stream",
     "text": [
      "Soma de valor_titulo das linhas de julho de 2025 em df_mes_0: 48388134.449999996\n"
     ]
    }
   ],
   "source": [
    "# Filtrar linhas de julho de 2025 e somar os valores de 'valor_titulo' em df_mes_0\n",
    "df_mes_0['data_vencimento'] = pd.to_datetime(df_mes_0['data_vencimento'])\n",
    "linhas_julho_2025_0 = df_mes_0[\n",
    "    (df_mes_0['data_vencimento'].dt.year == 2025) &\n",
    "    (df_mes_0['data_vencimento'].dt.month == 7)\n",
    "]\n",
    "soma_valor_titulo_julho_2025_0 = linhas_julho_2025_0['valor_titulo'].sum()\n",
    "print(f\"Soma de valor_titulo das linhas de julho de 2025 em df_mes_0: {soma_valor_titulo_julho_2025_0}\")\n"
   ]
  },
  {
   "cell_type": "code",
   "execution_count": null,
   "id": "798e9466",
   "metadata": {},
   "outputs": [
    {
     "name": "stderr",
     "output_type": "stream",
     "text": [
      "C:\\Users\\raphael.almeida\\AppData\\Local\\Temp\\ipykernel_17224\\917472037.py:24: DeprecationWarning: DataFrameGroupBy.apply operated on the grouping columns. This behavior is deprecated, and in a future version of pandas the grouping columns will be excluded from the operation. Either pass `include_groups=False` to exclude the groupings or explicitly select the grouping columns after groupby to silence this warning.\n",
      "  df_mes_filtrado = df_mes.groupby(['numero_documento', 'conjunto'], group_keys=False).apply(remover_duplicados)\n"
     ]
    }
   ],
   "source": [
    "df_mes = df_mes_0\n",
    "\n",
    "# Converter colunas de datas\n",
    "df_mes['data_vencimento'] = pd.to_datetime(df_mes['data_vencimento'])\n",
    "df_mes['data_reemissao'] = pd.to_datetime(df_mes['data_reemissao'], errors='coerce')\n",
    "\n",
    "# Extrair ano e mês para comparação dentro do mesmo período\n",
    "df_mes['ano_mes'] = df_mes['data_vencimento'].dt.to_period('M')\n",
    "\n",
    "# Função que remove o original se houver duplicata reemitida no mesmo mês e com valor semelhante\n",
    "def remover_duplicados(grupo):\n",
    "    grupo = grupo.copy()\n",
    "    for (mes), linhas_mes in grupo.groupby(['ano_mes']):\n",
    "        for i, linha in linhas_mes.iterrows():\n",
    "            similares = linhas_mes[\n",
    "                (linhas_mes.index != i) &  # Não comparar com ele mesmo\n",
    "                (abs(linhas_mes['valor_titulo'] - linha['valor_titulo']) <= 500) &  # Valor próximo\n",
    "                (linhas_mes['data_vencimento'].dt.to_period('M') == linha['data_vencimento'].to_period('M'))  # Mesmo mês\n",
    "            ]\n",
    "            if not similares.empty:\n",
    "                if linha['data_reemissao'] is pd.NaT:\n",
    "                    grupo.drop(index=i, inplace=True)\n",
    "    return grupo\n",
    "\n",
    "# Aplicar por numero_documento e conjunto\n",
    "df_mes_filtrado = df_mes.groupby(['numero_documento', 'conjunto'], group_keys=False).apply(remover_duplicados)\n",
    "\n",
    "# Limpar colunas auxiliares\n",
    "df_mes_filtrado = df_mes_filtrado.drop(columns=['ano_mes'])\n",
    "\n"
   ]
  },
  {
   "cell_type": "code",
   "execution_count": 5,
   "id": "35b795ac",
   "metadata": {},
   "outputs": [
    {
     "name": "stdout",
     "output_type": "stream",
     "text": [
      "Soma de valor_titulo das linhas de julho de 2025: 47699516.599999994\n"
     ]
    }
   ],
   "source": [
    "# Somar o valor_titulo das linhas de julho de 2025 em df_mes_filtrado\n",
    "linhas_julho_2025 = df_mes_filtrado[\n",
    "    (df_mes_filtrado['data_vencimento'].dt.year == 2025) &\n",
    "    (df_mes_filtrado['data_vencimento'].dt.month == 7)\n",
    "]\n",
    "soma_valor_titulo_julho_2025 = linhas_julho_2025['valor_titulo'].sum()\n",
    "print(f\"Soma de valor_titulo das linhas de julho de 2025: {soma_valor_titulo_julho_2025}\")\n"
   ]
  },
  {
   "cell_type": "code",
   "execution_count": null,
   "id": "864c4420",
   "metadata": {},
   "outputs": [],
   "source": [
    "caminho_pasta = r'C:\\Users\\raphael.almeida\\OneDrive - Grupo Unus\\analise de dados - Arquivos em excel\\Relatório de Inadimplência'\n",
    "caminho_arquivo = os.path.join(caminho_pasta,'relatorio_faturas_mes.xlsx')\n",
    "os.makedirs(caminho_pasta,exist_ok=True)\n",
    "if os.path.exists(caminho_arquivo):\n",
    "    os.remove(caminho_arquivo)\n",
    "    print(\"Arquivo antigo removido, iniciando carregamento...\")\n",
    "df_mes.to_excel(caminho_arquivo, engine = 'openpyxl', index=False, sheet_name='faturas_mes')\n",
    "print(f\"Arquivo Excel salvo com sucesso em: {caminho_arquivo}\")"
   ]
  }
 ],
 "metadata": {
  "kernelspec": {
   "display_name": "env",
   "language": "python",
   "name": "python3"
  },
  "language_info": {
   "codemirror_mode": {
    "name": "ipython",
    "version": 3
   },
   "file_extension": ".py",
   "mimetype": "text/x-python",
   "name": "python",
   "nbconvert_exporter": "python",
   "pygments_lexer": "ipython3",
   "version": "3.12.4"
  }
 },
 "nbformat": 4,
 "nbformat_minor": 5
}
