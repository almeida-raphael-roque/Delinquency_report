{
 "cells": [
  {
   "cell_type": "code",
   "execution_count": 36,
   "metadata": {},
   "outputs": [],
   "source": [
    "import pandas as pd\n",
    "import openpyxl\n",
    "import awswrangler as awr"
   ]
  },
  {
   "cell_type": "markdown",
   "metadata": {},
   "source": [
    "pegando excel"
   ]
  },
  {
   "cell_type": "code",
   "execution_count": 37,
   "metadata": {},
   "outputs": [],
   "source": [
    "excel_path = r\"C:\\Users\\raphael.almeida\\Documents\\Processos\\relatorio_inadimplencia\\historico_faturas.xlsx\"\n",
    "\n",
    "df_base = pd.read_excel(excel_path, engine='openpyxl')\n",
    "\n"
   ]
  },
  {
   "cell_type": "markdown",
   "metadata": {},
   "source": [
    "ajustes pontuais base"
   ]
  },
  {
   "cell_type": "code",
   "execution_count": 38,
   "metadata": {},
   "outputs": [],
   "source": [
    "colunas_comuns = [\n",
    "    \"matricula\",\n",
    "    \"conjunto\",\n",
    "    \"cooperativa\",\n",
    "    \"ponteiro\",\n",
    "    \"numero_boleto\",\n",
    "    \"nosso_numero\",\n",
    "    \"unidade\",\n",
    "    \"associado\",\n",
    "    \"data_vencimento\",\n",
    "    \"data_baixa\",\n",
    "    \"valor_titulo\",\n",
    "    \"valor_baixa\",\n",
    "    \"data_emissao\",\n",
    "    \"data_atualizacao\",\n",
    "    \"situacao\"\n",
    "]\n",
    "\n",
    "df_base = df_base[colunas_comuns]\n",
    "df_base = df_base.drop_duplicates(subset=['matricula', 'conjunto', 'cooperativa','ponteiro', 'situacao', 'data_atualizacao'])\n",
    "\n",
    "df_base['data_vencimento'] = pd.to_datetime(df_base['data_vencimento'])\n",
    "df_base['data_vencimento'] = df_base['data_vencimento'].dt.date \n",
    "\n",
    "df_base['data_baixa'] = pd.to_datetime(df_base['data_baixa'])\n",
    "df_base['data_baixa'] = df_base['data_baixa'].dt.date \n",
    "\n",
    "df_base['data_emissao'] = pd.to_datetime(df_base['data_emissao'])\n",
    "df_base['data_emissao'] = df_base['data_emissao'].dt.date "
   ]
  },
  {
   "cell_type": "markdown",
   "metadata": {},
   "source": [
    "tratando colunas nulas"
   ]
  },
  {
   "cell_type": "code",
   "execution_count": 39,
   "metadata": {},
   "outputs": [],
   "source": [
    "df_base['data_baixa'] = df_base['data_baixa'].fillna(pd.Timestamp('1900-01-01'))\n",
    "df_base['data_emissao'] = df_base['data_emissao'].fillna(pd.Timestamp('1900-01-01'))\n",
    "df_base['data_vencimento'] = df_base['data_vencimento'].fillna(pd.Timestamp('1900-01-01'))\n",
    "df_base['valor_titulo'] = df_base['valor_titulo'].fillna(0)\n",
    "df_base['valor_baixa'] = df_base['valor_baixa'].fillna(0)\n",
    "df_base['nosso_numero'] = df_base['nosso_numero'].fillna('NULL')\n",
    "df_base['numero_boleto'] = df_base['numero_boleto'].fillna('NULL')"
   ]
  },
  {
   "cell_type": "markdown",
   "metadata": {},
   "source": [
    "gerando base de inadimplência"
   ]
  },
  {
   "cell_type": "code",
   "execution_count": 40,
   "metadata": {},
   "outputs": [],
   "source": [
    "query_path = r\"C:\\Users\\raphael.almeida\\Documents\\Processos\\relatorio_inadimplencia\\sql\\faturas_inadimplentes.sql\"\n",
    "\n",
    "with open(query_path, 'r') as file:\n",
    "    query = file.read()\n",
    "\n",
    "df_inadimplentes = awr.athena.read_sql_query(query, database='silver')\n",
    "df_inadimplentes = df_inadimplentes.drop_duplicates('ponteiro', keep='first')\n",
    "\n",
    "df_inadimplentes.loc[:, 'data_atualizacao'] = df_inadimplentes['data_vencimento']\n",
    "df_inadimplentes.loc[:, 'situacao']='INADIMPLENTE'\n"
   ]
  },
  {
   "cell_type": "markdown",
   "metadata": {},
   "source": [
    "selecionando limite base"
   ]
  },
  {
   "cell_type": "code",
   "execution_count": 41,
   "metadata": {},
   "outputs": [],
   "source": [
    "today = pd.to_datetime('today').date()\n",
    "year = today.year\n",
    "month = today.month\n",
    "df_inadimplentes['data_vencimento'] = pd.to_datetime(df_inadimplentes['data_vencimento'])\n",
    "\n",
    "\n",
    "df_inadimplentes = df_inadimplentes[df_inadimplentes['data_vencimento']> pd.to_datetime('2025-05-31')]\n",
    "#df_inadimplentes = df_inadimplentes[df_inadimplentes['data_vencimento'].dt.month == month]\n",
    "\n",
    "#df_inadimplentes = df_inadimplentes[df_inadimplentes['data_vencimento'].dt.year == year]\n",
    "\n",
    "\n"
   ]
  },
  {
   "cell_type": "markdown",
   "metadata": {},
   "source": [
    "tratando colunas df_inadimplentes"
   ]
  },
  {
   "cell_type": "code",
   "execution_count": 42,
   "metadata": {},
   "outputs": [],
   "source": [
    "\n",
    "for col in colunas_comuns:\n",
    "    if col not in df_inadimplentes.columns:\n",
    "        df_inadimplentes.loc[:, col] = pd.NA\n",
    "\n",
    "df_inadimplentes = df_inadimplentes[colunas_comuns]"
   ]
  },
  {
   "cell_type": "markdown",
   "metadata": {},
   "source": [
    "concatenando e removendo linhas inteiras duplicadas"
   ]
  },
  {
   "cell_type": "code",
   "execution_count": 43,
   "metadata": {},
   "outputs": [
    {
     "name": "stderr",
     "output_type": "stream",
     "text": [
      "C:\\Users\\raphael.almeida\\AppData\\Local\\Temp\\ipykernel_14036\\3111717009.py:1: FutureWarning: The behavior of DataFrame concatenation with empty or all-NA entries is deprecated. In a future version, this will no longer exclude empty or all-NA columns when determining the result dtypes. To retain the old behavior, exclude the relevant entries before the concat operation.\n",
      "  df_composto_inadimplentes =  pd.concat([df_base, df_inadimplentes])\n"
     ]
    }
   ],
   "source": [
    "df_composto_inadimplentes =  pd.concat([df_base, df_inadimplentes])\n",
    "df_composto_inadimplentes = df_composto_inadimplentes.drop_duplicates(keep='first')\n"
   ]
  },
  {
   "cell_type": "markdown",
   "metadata": {},
   "source": [
    "filtrando apenas os ponteiros de inadimplentes"
   ]
  },
  {
   "cell_type": "code",
   "execution_count": 44,
   "metadata": {},
   "outputs": [],
   "source": [
    "#df_composto_inadimplentes['data_vencimento'] = pd.to_datetime(df_composto_inadimplentes['data_vencimento'])\n",
    "#df_composto_inadimplentes_mes = df_composto_inadimplentes[df_composto_inadimplentes['data_vencimento'].dt.month == month]\n",
    "#df_composto_inadimplentes_mes = df_composto_inadimplentes[df_composto_inadimplentes['data_vencimento'].dt.year == year]\n",
    "\n",
    "df_inadimplentes_lista = df_composto_inadimplentes.loc[df_composto_inadimplentes['data_vencimento'].notna() ,'ponteiro'].to_list()\n"
   ]
  },
  {
   "cell_type": "markdown",
   "metadata": {},
   "source": [
    "gerando o relatório de pagamentos do mês e tratando colunas"
   ]
  },
  {
   "cell_type": "code",
   "execution_count": 45,
   "metadata": {},
   "outputs": [],
   "source": [
    "query_path = r\"C:\\Users\\raphael.almeida\\Documents\\Processos\\relatorio_inadimplencia\\sql\\faturas_baixadas.sql\"\n",
    "\n",
    "with open(query_path, 'r') as file:\n",
    "    query = file.read()\n",
    "\n",
    "df_pagamentos = awr.athena.read_sql_query(query, database='silver')\n",
    "\n",
    "\n",
    "for col in colunas_comuns:\n",
    "    if col not in df_pagamentos.columns:\n",
    "        df_pagamentos.loc[:, col] = pd.NA\n",
    "df_pagamentos = df_pagamentos[colunas_comuns]"
   ]
  },
  {
   "cell_type": "markdown",
   "metadata": {},
   "source": [
    "tratando colunas"
   ]
  },
  {
   "cell_type": "code",
   "execution_count": 46,
   "metadata": {},
   "outputs": [],
   "source": [
    "df_pagamentos.loc[:, 'data_atualizacao'] = df_pagamentos['data_baixa']\n",
    "df_pagamentos.loc[:, 'situacao']='PAGO'"
   ]
  },
  {
   "cell_type": "code",
   "execution_count": 47,
   "metadata": {},
   "outputs": [],
   "source": [
    "\n",
    "\n",
    "df_pagamentos['data_baixa'] = pd.to_datetime(df_pagamentos['data_baixa'])\n",
    "df_pagamentos['data_vencimento'] = pd.to_datetime(df_pagamentos['data_vencimento'])\n",
    "\n",
    "df_pagamentos = df_pagamentos.drop_duplicates('ponteiro', keep='first')\n",
    "df_pagamentos = df_pagamentos[\n",
    "    (df_pagamentos['data_baixa']> pd.to_datetime('2025-05-31'))&\n",
    "    (df_pagamentos['data_vencimento']> pd.to_datetime('2025-05-31'))\n",
    "    ]\n",
    "#df_pagamentos = df_pagamentos[df_pagamentos['data_baixa'].dt.month == month]\n",
    "#df_pagamentos = df_pagamentos[df_pagamentos['data_baixa'].dt.year == year]\n",
    "\n",
    "df_pagamentos_inadimplencia = df_pagamentos[df_pagamentos['ponteiro'].isin(df_inadimplentes_lista)]\n"
   ]
  },
  {
   "cell_type": "markdown",
   "metadata": {},
   "source": [
    "concatenando faturas baixadas dos vencidos deste mes com a base composta e atualizada"
   ]
  },
  {
   "cell_type": "code",
   "execution_count": 48,
   "metadata": {},
   "outputs": [
    {
     "name": "stderr",
     "output_type": "stream",
     "text": [
      "C:\\Users\\raphael.almeida\\AppData\\Local\\Temp\\ipykernel_14036\\3245592541.py:1: FutureWarning: The behavior of DataFrame concatenation with empty or all-NA entries is deprecated. In a future version, this will no longer exclude empty or all-NA columns when determining the result dtypes. To retain the old behavior, exclude the relevant entries before the concat operation.\n",
      "  df_atualizado = pd.concat([df_composto_inadimplentes, df_pagamentos_inadimplencia])\n"
     ]
    },
    {
     "data": {
      "text/html": [
       "<div>\n",
       "<style scoped>\n",
       "    .dataframe tbody tr th:only-of-type {\n",
       "        vertical-align: middle;\n",
       "    }\n",
       "\n",
       "    .dataframe tbody tr th {\n",
       "        vertical-align: top;\n",
       "    }\n",
       "\n",
       "    .dataframe thead th {\n",
       "        text-align: right;\n",
       "    }\n",
       "</style>\n",
       "<table border=\"1\" class=\"dataframe\">\n",
       "  <thead>\n",
       "    <tr style=\"text-align: right;\">\n",
       "      <th></th>\n",
       "      <th>matricula</th>\n",
       "      <th>conjunto</th>\n",
       "      <th>cooperativa</th>\n",
       "      <th>ponteiro</th>\n",
       "      <th>numero_boleto</th>\n",
       "      <th>nosso_numero</th>\n",
       "      <th>unidade</th>\n",
       "      <th>associado</th>\n",
       "      <th>data_vencimento</th>\n",
       "      <th>data_baixa</th>\n",
       "      <th>valor_titulo</th>\n",
       "      <th>valor_baixa</th>\n",
       "      <th>data_emissao</th>\n",
       "      <th>data_atualizacao</th>\n",
       "      <th>situacao</th>\n",
       "    </tr>\n",
       "  </thead>\n",
       "  <tbody>\n",
       "    <tr>\n",
       "      <th>0</th>\n",
       "      <td>20400</td>\n",
       "      <td>10238</td>\n",
       "      <td>Stcoop</td>\n",
       "      <td>157214</td>\n",
       "      <td>1135680</td>\n",
       "      <td>1135680-1</td>\n",
       "      <td>UNIDADE CASCAVEL</td>\n",
       "      <td>VOLMAR DE ALMEIDA</td>\n",
       "      <td>2025-06-05</td>\n",
       "      <td>1900-01-01</td>\n",
       "      <td>1032.33</td>\n",
       "      <td>0.00</td>\n",
       "      <td>2024-08-05</td>\n",
       "      <td>2025-06-05 00:00:00</td>\n",
       "      <td>INADIMPLENTE</td>\n",
       "    </tr>\n",
       "    <tr>\n",
       "      <th>1</th>\n",
       "      <td>17883</td>\n",
       "      <td>10354</td>\n",
       "      <td>Stcoop</td>\n",
       "      <td>159226</td>\n",
       "      <td>1137286</td>\n",
       "      <td>1137286-6</td>\n",
       "      <td>UNIDADE ITAJAI</td>\n",
       "      <td>VALÉRIO JOSÉ SEBASTIÃO</td>\n",
       "      <td>2025-06-10</td>\n",
       "      <td>1900-01-01</td>\n",
       "      <td>995.52</td>\n",
       "      <td>0.00</td>\n",
       "      <td>2024-08-12</td>\n",
       "      <td>2025-06-10 00:00:00</td>\n",
       "      <td>INADIMPLENTE</td>\n",
       "    </tr>\n",
       "    <tr>\n",
       "      <th>2</th>\n",
       "      <td>4322</td>\n",
       "      <td>14269</td>\n",
       "      <td>Stcoop</td>\n",
       "      <td>225329</td>\n",
       "      <td>509</td>\n",
       "      <td>37422190000000509</td>\n",
       "      <td>UNIDADE ITAPEJARA</td>\n",
       "      <td>MAICON ABATI</td>\n",
       "      <td>2025-06-10</td>\n",
       "      <td>1900-01-01</td>\n",
       "      <td>952.30</td>\n",
       "      <td>0.00</td>\n",
       "      <td>2025-04-25</td>\n",
       "      <td>2025-06-10 00:00:00</td>\n",
       "      <td>INADIMPLENTE</td>\n",
       "    </tr>\n",
       "    <tr>\n",
       "      <th>3</th>\n",
       "      <td>14562</td>\n",
       "      <td>12199</td>\n",
       "      <td>Stcoop</td>\n",
       "      <td>188991</td>\n",
       "      <td>1161436</td>\n",
       "      <td>1161436-9</td>\n",
       "      <td>UNIDADE ITAPEJARA</td>\n",
       "      <td>G B K - TRANSPORTES LTDA</td>\n",
       "      <td>2025-06-10</td>\n",
       "      <td>1900-01-01</td>\n",
       "      <td>2125.65</td>\n",
       "      <td>0.00</td>\n",
       "      <td>2024-11-06</td>\n",
       "      <td>2025-06-10 00:00:00</td>\n",
       "      <td>INADIMPLENTE</td>\n",
       "    </tr>\n",
       "    <tr>\n",
       "      <th>4</th>\n",
       "      <td>5598</td>\n",
       "      <td>10992</td>\n",
       "      <td>Stcoop</td>\n",
       "      <td>168777</td>\n",
       "      <td>1145535</td>\n",
       "      <td>1145535-5</td>\n",
       "      <td>UNIDADE ITAPEJARA</td>\n",
       "      <td>PAULO ROBERTO RABELO</td>\n",
       "      <td>2025-06-10</td>\n",
       "      <td>1900-01-01</td>\n",
       "      <td>975.63</td>\n",
       "      <td>0.00</td>\n",
       "      <td>2024-09-09</td>\n",
       "      <td>2025-06-10 00:00:00</td>\n",
       "      <td>INADIMPLENTE</td>\n",
       "    </tr>\n",
       "    <tr>\n",
       "      <th>...</th>\n",
       "      <td>...</td>\n",
       "      <td>...</td>\n",
       "      <td>...</td>\n",
       "      <td>...</td>\n",
       "      <td>...</td>\n",
       "      <td>...</td>\n",
       "      <td>...</td>\n",
       "      <td>...</td>\n",
       "      <td>...</td>\n",
       "      <td>...</td>\n",
       "      <td>...</td>\n",
       "      <td>...</td>\n",
       "      <td>...</td>\n",
       "      <td>...</td>\n",
       "      <td>...</td>\n",
       "    </tr>\n",
       "    <tr>\n",
       "      <th>57723</th>\n",
       "      <td>1735</td>\n",
       "      <td>3725</td>\n",
       "      <td>Viavante</td>\n",
       "      <td>173201</td>\n",
       "      <td>1072511</td>\n",
       "      <td>1072511-0</td>\n",
       "      <td>UNIDADE UBERLÂNDIA</td>\n",
       "      <td>MJ POWER TRANSPORTES LTDA</td>\n",
       "      <td>2025-06-05 00:00:00</td>\n",
       "      <td>2025-06-05</td>\n",
       "      <td>NaN</td>\n",
       "      <td>2655.28</td>\n",
       "      <td>NaN</td>\n",
       "      <td>2025-06-05</td>\n",
       "      <td>PAGO</td>\n",
       "    </tr>\n",
       "    <tr>\n",
       "      <th>89511</th>\n",
       "      <td>589</td>\n",
       "      <td>4764</td>\n",
       "      <td>Viavante</td>\n",
       "      <td>219782</td>\n",
       "      <td>1115862</td>\n",
       "      <td>1115862-9</td>\n",
       "      <td>UNIDADE MARINGÁ</td>\n",
       "      <td>HIGO TRANSPORTES RODOVIARIO LTDA</td>\n",
       "      <td>2025-06-05 00:00:00</td>\n",
       "      <td>2025-06-05</td>\n",
       "      <td>NaN</td>\n",
       "      <td>1277.57</td>\n",
       "      <td>NaN</td>\n",
       "      <td>2025-06-05</td>\n",
       "      <td>PAGO</td>\n",
       "    </tr>\n",
       "    <tr>\n",
       "      <th>102741</th>\n",
       "      <td>250</td>\n",
       "      <td>1412</td>\n",
       "      <td>Viavante</td>\n",
       "      <td>226204</td>\n",
       "      <td>1121538</td>\n",
       "      <td>1121538-7</td>\n",
       "      <td>UNIDADE ITAPEJARA</td>\n",
       "      <td>JEAN WEBER VENDRUSCOLO E CIA LTDA</td>\n",
       "      <td>2025-06-05 00:00:00</td>\n",
       "      <td>2025-06-02</td>\n",
       "      <td>NaN</td>\n",
       "      <td>2738.69</td>\n",
       "      <td>NaN</td>\n",
       "      <td>2025-06-02</td>\n",
       "      <td>PAGO</td>\n",
       "    </tr>\n",
       "    <tr>\n",
       "      <th>153808</th>\n",
       "      <td>297</td>\n",
       "      <td>3645</td>\n",
       "      <td>Viavante</td>\n",
       "      <td>169287</td>\n",
       "      <td>1068841</td>\n",
       "      <td>1068841-4</td>\n",
       "      <td>UNIDADE ITAJAI</td>\n",
       "      <td>MUNIZ TRANSPORTES E SERVICOS LTDA</td>\n",
       "      <td>2025-06-05 00:00:00</td>\n",
       "      <td>2025-06-05</td>\n",
       "      <td>NaN</td>\n",
       "      <td>857.13</td>\n",
       "      <td>NaN</td>\n",
       "      <td>2025-06-05</td>\n",
       "      <td>PAGO</td>\n",
       "    </tr>\n",
       "    <tr>\n",
       "      <th>805131</th>\n",
       "      <td>17313</td>\n",
       "      <td>11498</td>\n",
       "      <td>Stcoop</td>\n",
       "      <td>178543</td>\n",
       "      <td>1153123</td>\n",
       "      <td>1153123-9</td>\n",
       "      <td>UNIDADE SINOP</td>\n",
       "      <td>DANIEL PINHEIRO BARRETO</td>\n",
       "      <td>2025-06-05 00:00:00</td>\n",
       "      <td>2025-06-05</td>\n",
       "      <td>NaN</td>\n",
       "      <td>2275.03</td>\n",
       "      <td>NaN</td>\n",
       "      <td>2025-06-05</td>\n",
       "      <td>PAGO</td>\n",
       "    </tr>\n",
       "  </tbody>\n",
       "</table>\n",
       "<p>5784 rows × 15 columns</p>\n",
       "</div>"
      ],
      "text/plain": [
       "        matricula  conjunto cooperativa  ponteiro numero_boleto  \\\n",
       "0           20400     10238      Stcoop    157214       1135680   \n",
       "1           17883     10354      Stcoop    159226       1137286   \n",
       "2            4322     14269      Stcoop    225329           509   \n",
       "3           14562     12199      Stcoop    188991       1161436   \n",
       "4            5598     10992      Stcoop    168777       1145535   \n",
       "...           ...       ...         ...       ...           ...   \n",
       "57723        1735      3725    Viavante    173201       1072511   \n",
       "89511         589      4764    Viavante    219782       1115862   \n",
       "102741        250      1412    Viavante    226204       1121538   \n",
       "153808        297      3645    Viavante    169287       1068841   \n",
       "805131      17313     11498      Stcoop    178543       1153123   \n",
       "\n",
       "             nosso_numero             unidade  \\\n",
       "0               1135680-1    UNIDADE CASCAVEL   \n",
       "1               1137286-6      UNIDADE ITAJAI   \n",
       "2       37422190000000509   UNIDADE ITAPEJARA   \n",
       "3               1161436-9   UNIDADE ITAPEJARA   \n",
       "4               1145535-5   UNIDADE ITAPEJARA   \n",
       "...                   ...                 ...   \n",
       "57723           1072511-0  UNIDADE UBERLÂNDIA   \n",
       "89511           1115862-9     UNIDADE MARINGÁ   \n",
       "102741          1121538-7   UNIDADE ITAPEJARA   \n",
       "153808          1068841-4      UNIDADE ITAJAI   \n",
       "805131          1153123-9       UNIDADE SINOP   \n",
       "\n",
       "                                associado      data_vencimento data_baixa  \\\n",
       "0                       VOLMAR DE ALMEIDA           2025-06-05 1900-01-01   \n",
       "1                  VALÉRIO JOSÉ SEBASTIÃO           2025-06-10 1900-01-01   \n",
       "2                            MAICON ABATI           2025-06-10 1900-01-01   \n",
       "3                G B K - TRANSPORTES LTDA           2025-06-10 1900-01-01   \n",
       "4                    PAULO ROBERTO RABELO           2025-06-10 1900-01-01   \n",
       "...                                   ...                  ...        ...   \n",
       "57723           MJ POWER TRANSPORTES LTDA  2025-06-05 00:00:00 2025-06-05   \n",
       "89511    HIGO TRANSPORTES RODOVIARIO LTDA  2025-06-05 00:00:00 2025-06-05   \n",
       "102741  JEAN WEBER VENDRUSCOLO E CIA LTDA  2025-06-05 00:00:00 2025-06-02   \n",
       "153808  MUNIZ TRANSPORTES E SERVICOS LTDA  2025-06-05 00:00:00 2025-06-05   \n",
       "805131           DANIEL PINHEIRO BARRETO   2025-06-05 00:00:00 2025-06-05   \n",
       "\n",
       "        valor_titulo  valor_baixa data_emissao     data_atualizacao  \\\n",
       "0            1032.33         0.00   2024-08-05  2025-06-05 00:00:00   \n",
       "1             995.52         0.00   2024-08-12  2025-06-10 00:00:00   \n",
       "2             952.30         0.00   2025-04-25  2025-06-10 00:00:00   \n",
       "3            2125.65         0.00   2024-11-06  2025-06-10 00:00:00   \n",
       "4             975.63         0.00   2024-09-09  2025-06-10 00:00:00   \n",
       "...              ...          ...          ...                  ...   \n",
       "57723            NaN      2655.28          NaN           2025-06-05   \n",
       "89511            NaN      1277.57          NaN           2025-06-05   \n",
       "102741           NaN      2738.69          NaN           2025-06-02   \n",
       "153808           NaN       857.13          NaN           2025-06-05   \n",
       "805131           NaN      2275.03          NaN           2025-06-05   \n",
       "\n",
       "            situacao  \n",
       "0       INADIMPLENTE  \n",
       "1       INADIMPLENTE  \n",
       "2       INADIMPLENTE  \n",
       "3       INADIMPLENTE  \n",
       "4       INADIMPLENTE  \n",
       "...              ...  \n",
       "57723           PAGO  \n",
       "89511           PAGO  \n",
       "102741          PAGO  \n",
       "153808          PAGO  \n",
       "805131          PAGO  \n",
       "\n",
       "[5784 rows x 15 columns]"
      ]
     },
     "execution_count": 48,
     "metadata": {},
     "output_type": "execute_result"
    }
   ],
   "source": [
    "df_atualizado = pd.concat([df_composto_inadimplentes, df_pagamentos_inadimplencia])\n",
    "df_atualizado.drop_duplicates(subset=['matricula', 'conjunto', 'cooperativa', 'ponteiro', 'situacao', 'data_atualizacao'])"
   ]
  },
  {
   "cell_type": "markdown",
   "metadata": {},
   "source": [
    "ajustando formatação"
   ]
  },
  {
   "cell_type": "code",
   "execution_count": 49,
   "metadata": {},
   "outputs": [],
   "source": [
    "\n",
    "df_atualizado['data_vencimento'] = pd.to_datetime(df_atualizado['data_vencimento'])\n",
    "df_atualizado['data_vencimento'] = df_atualizado['data_vencimento'].dt.date \n",
    "\n",
    "df_atualizado['data_baixa'] = pd.to_datetime(df_atualizado['data_baixa'])\n",
    "df_atualizado['data_baixa'] = df_atualizado['data_baixa'].dt.date \n",
    "\n",
    "df_atualizado['data_emissao'] = pd.to_datetime(df_atualizado['data_emissao'])\n",
    "df_atualizado['data_emissao'] = df_atualizado['data_emissao'].dt.date \n",
    "\n",
    "df_atualizado['data_atualizacao'] = pd.to_datetime(df_atualizado['data_atualizacao']).dt.date\n",
    "\n",
    "df_atualizado = df_atualizado[colunas_comuns]"
   ]
  },
  {
   "cell_type": "markdown",
   "metadata": {},
   "source": [
    "tratando colunas nulas"
   ]
  },
  {
   "cell_type": "code",
   "execution_count": 50,
   "metadata": {},
   "outputs": [],
   "source": [
    "df_atualizado['data_baixa'] = df_atualizado['data_baixa'].fillna(pd.Timestamp('1900-01-01'))\n",
    "df_atualizado['data_vencimento'] = df_atualizado['data_vencimento'].fillna(pd.Timestamp('1900-01-01'))\n",
    "df_atualizado['valor_titulo'] = df_atualizado['valor_titulo'].fillna(0)\n",
    "df_atualizado['valor_baixa'] = df_atualizado['valor_baixa'].fillna(0)\n",
    "df_atualizado['nosso_numero'] = df_atualizado['nosso_numero'].fillna('NULL')\n",
    "df_atualizado['numero_boleto'] = df_atualizado['numero_boleto'].fillna('NULL')"
   ]
  },
  {
   "cell_type": "markdown",
   "metadata": {},
   "source": [
    "retornando ao excel base atualizado"
   ]
  },
  {
   "cell_type": "code",
   "execution_count": 51,
   "metadata": {},
   "outputs": [],
   "source": [
    "excel_save_path = r\"C:\\Users\\raphael.almeida\\Documents\\Processos\\relatorio_inadimplencia\\historico_faturas.xlsx\"\n",
    "df_atualizado.to_excel(excel_save_path, engine='openpyxl', index=False, sheet_name='historico_faturas')"
   ]
  }
 ],
 "metadata": {
  "kernelspec": {
   "display_name": "env",
   "language": "python",
   "name": "python3"
  },
  "language_info": {
   "codemirror_mode": {
    "name": "ipython",
    "version": 3
   },
   "file_extension": ".py",
   "mimetype": "text/x-python",
   "name": "python",
   "nbconvert_exporter": "python",
   "pygments_lexer": "ipython3",
   "version": "3.12.4"
  }
 },
 "nbformat": 4,
 "nbformat_minor": 2
}
