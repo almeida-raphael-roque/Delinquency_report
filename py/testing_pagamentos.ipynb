{
 "cells": [
  {
   "cell_type": "code",
   "execution_count": 5,
   "metadata": {},
   "outputs": [],
   "source": [
    "import awswrangler as awr\n",
    "import pandas as pd\n",
    "import os\n",
    "import openpyxl\n",
    "\n",
    "\n",
    "caminho_query = r\"C:\\Users\\raphael.almeida\\Documents\\Processos\\relatorio_inadimplencia\\sql\\faturas_baixadas.sql\"\n",
    "\n",
    "#realizando a leitura da query\n",
    "with open(caminho_query,'r') as arquivo_query:\n",
    "    query = arquivo_query.read()\n",
    "\n",
    "#transformando em dataframe (pandas) e executando a consulta no athena \n",
    "df_pagamentos = awr.athena.read_sql_query(query, database='silver')\n"
   ]
  },
  {
   "cell_type": "code",
   "execution_count": 20,
   "metadata": {},
   "outputs": [],
   "source": [
    "df_pagamentos = df_pagamentos.drop_duplicates('ponteiro', keep='first')\n"
   ]
  },
  {
   "cell_type": "markdown",
   "metadata": {},
   "source": [
    "testando resultado final"
   ]
  },
  {
   "cell_type": "code",
   "execution_count": 8,
   "metadata": {},
   "outputs": [
    {
     "data": {
      "text/html": [
       "<div>\n",
       "<style scoped>\n",
       "    .dataframe tbody tr th:only-of-type {\n",
       "        vertical-align: middle;\n",
       "    }\n",
       "\n",
       "    .dataframe tbody tr th {\n",
       "        vertical-align: top;\n",
       "    }\n",
       "\n",
       "    .dataframe thead th {\n",
       "        text-align: right;\n",
       "    }\n",
       "</style>\n",
       "<table border=\"1\" class=\"dataframe\">\n",
       "  <thead>\n",
       "    <tr style=\"text-align: right;\">\n",
       "      <th></th>\n",
       "      <th>cooperativa</th>\n",
       "      <th>aplicacao</th>\n",
       "      <th>ponteiro</th>\n",
       "      <th>matricula</th>\n",
       "      <th>conjunto</th>\n",
       "      <th>unidade</th>\n",
       "      <th>associado</th>\n",
       "      <th>valor_baixa</th>\n",
       "      <th>data_baixa</th>\n",
       "      <th>data_vencimento</th>\n",
       "      <th>dias_atraso</th>\n",
       "    </tr>\n",
       "  </thead>\n",
       "  <tbody>\n",
       "    <tr>\n",
       "      <th>0</th>\n",
       "      <td>Stcoop</td>\n",
       "      <td>166</td>\n",
       "      <td>53572</td>\n",
       "      <td>20946</td>\n",
       "      <td>3635</td>\n",
       "      <td>UNIDADE SÃO PAULO</td>\n",
       "      <td>MARIA APARECIDA GOMES DE SOUZA MINEIRO</td>\n",
       "      <td>1218.94</td>\n",
       "      <td>2024-08-12</td>\n",
       "      <td>2024-08-12</td>\n",
       "      <td>0</td>\n",
       "    </tr>\n",
       "    <tr>\n",
       "      <th>6</th>\n",
       "      <td>Stcoop</td>\n",
       "      <td>1</td>\n",
       "      <td>38761</td>\n",
       "      <td>4245</td>\n",
       "      <td>2475</td>\n",
       "      <td>UNIDADE GUARAPUAVA</td>\n",
       "      <td>ANDREY LUIZ DA LUZ</td>\n",
       "      <td>549.87</td>\n",
       "      <td>2024-02-26</td>\n",
       "      <td>2024-02-26</td>\n",
       "      <td>0</td>\n",
       "    </tr>\n",
       "    <tr>\n",
       "      <th>13</th>\n",
       "      <td>Stcoop</td>\n",
       "      <td>166</td>\n",
       "      <td>38771</td>\n",
       "      <td>4245</td>\n",
       "      <td>2475</td>\n",
       "      <td>UNIDADE GUARAPUAVA</td>\n",
       "      <td>ANDREY LUIZ DA LUZ</td>\n",
       "      <td>1404.35</td>\n",
       "      <td>2024-08-05</td>\n",
       "      <td>2024-08-05</td>\n",
       "      <td>0</td>\n",
       "    </tr>\n",
       "    <tr>\n",
       "      <th>20</th>\n",
       "      <td>Stcoop</td>\n",
       "      <td>166</td>\n",
       "      <td>97154</td>\n",
       "      <td>21699</td>\n",
       "      <td>6595</td>\n",
       "      <td>UNIDADE GUARAPUAVA</td>\n",
       "      <td>PR TRANSPORTADORA LTDA</td>\n",
       "      <td>455.45</td>\n",
       "      <td>2024-05-09</td>\n",
       "      <td>2024-05-10</td>\n",
       "      <td>1</td>\n",
       "    </tr>\n",
       "    <tr>\n",
       "      <th>24</th>\n",
       "      <td>Stcoop</td>\n",
       "      <td>166</td>\n",
       "      <td>97158</td>\n",
       "      <td>21699</td>\n",
       "      <td>6595</td>\n",
       "      <td>UNIDADE GUARAPUAVA</td>\n",
       "      <td>PR TRANSPORTADORA LTDA</td>\n",
       "      <td>450.45</td>\n",
       "      <td>2024-08-22</td>\n",
       "      <td>2024-09-05</td>\n",
       "      <td>14</td>\n",
       "    </tr>\n",
       "  </tbody>\n",
       "</table>\n",
       "</div>"
      ],
      "text/plain": [
       "   cooperativa  aplicacao  ponteiro  matricula  conjunto             unidade  \\\n",
       "0       Stcoop        166     53572      20946      3635   UNIDADE SÃO PAULO   \n",
       "6       Stcoop          1     38761       4245      2475  UNIDADE GUARAPUAVA   \n",
       "13      Stcoop        166     38771       4245      2475  UNIDADE GUARAPUAVA   \n",
       "20      Stcoop        166     97154      21699      6595  UNIDADE GUARAPUAVA   \n",
       "24      Stcoop        166     97158      21699      6595  UNIDADE GUARAPUAVA   \n",
       "\n",
       "                                 associado  valor_baixa  data_baixa  \\\n",
       "0   MARIA APARECIDA GOMES DE SOUZA MINEIRO      1218.94  2024-08-12   \n",
       "6                       ANDREY LUIZ DA LUZ       549.87  2024-02-26   \n",
       "13                      ANDREY LUIZ DA LUZ      1404.35  2024-08-05   \n",
       "20                  PR TRANSPORTADORA LTDA       455.45  2024-05-09   \n",
       "24                  PR TRANSPORTADORA LTDA       450.45  2024-08-22   \n",
       "\n",
       "   data_vencimento  dias_atraso  \n",
       "0       2024-08-12            0  \n",
       "6       2024-02-26            0  \n",
       "13      2024-08-05            0  \n",
       "20      2024-05-10            1  \n",
       "24      2024-09-05           14  "
      ]
     },
     "execution_count": 8,
     "metadata": {},
     "output_type": "execute_result"
    }
   ],
   "source": [
    "df_pagamentos.head()"
   ]
  },
  {
   "cell_type": "code",
   "execution_count": 16,
   "metadata": {},
   "outputs": [
    {
     "data": {
      "text/plain": [
       "Timestamp('1-02-28 12:16:45.899208')"
      ]
     },
     "execution_count": 16,
     "metadata": {},
     "output_type": "execute_result"
    }
   ],
   "source": [
    "hoje = pd.Timestamp.today()\n",
    "ano_atras = hoje-pd.DateOffset(year=1)\n",
    "ano_atras"
   ]
  },
  {
   "cell_type": "code",
   "execution_count": null,
   "metadata": {},
   "outputs": [
    {
     "data": {
      "text/plain": [
       "227166267.07999995"
      ]
     },
     "execution_count": 19,
     "metadata": {},
     "output_type": "execute_result"
    }
   ],
   "source": [
    "df_pagamentos = df_pagamentos.drop_duplicates('ponteiro', keep='first')\n",
    "\n",
    "hoje = pd.Timestamp.today()\n",
    "\n",
    "\n",
    "\n",
    "df_data_filtrada = df_pagamentos[\n",
    "    (df_pagamentos['data_baixa']<=hoje.date())&\n",
    "    (df_pagamentos['data_baixa']>=pd.to_datetime(\"2024-02-27\").date())\n",
    "]\n",
    "\n",
    "df_data_filtrada['valor_baixa'].sum()"
   ]
  }
 ],
 "metadata": {
  "kernelspec": {
   "display_name": "env",
   "language": "python",
   "name": "python3"
  },
  "language_info": {
   "codemirror_mode": {
    "name": "ipython",
    "version": 3
   },
   "file_extension": ".py",
   "mimetype": "text/x-python",
   "name": "python",
   "nbconvert_exporter": "python",
   "pygments_lexer": "ipython3",
   "version": "3.12.4"
  }
 },
 "nbformat": 4,
 "nbformat_minor": 2
}
